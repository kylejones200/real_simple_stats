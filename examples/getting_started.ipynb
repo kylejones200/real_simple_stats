{
 "cells": [
  {
   "cell_type": "markdown",
   "metadata": {},
   "source": [
    "# Getting Started with Real Simple Stats\n",
    "\n",
    "This notebook provides a comprehensive introduction to the Real Simple Stats library.\n",
    "\n",
    "## Installation\n",
    "\n",
    "```bash\n",
    "pip install real-simple-stats\n",
    "```"
   ]
  },
  {
   "cell_type": "code",
   "execution_count": null,
   "metadata": {},
   "outputs": [],
   "source": [
    "# Import the library\n",
    "import real_simple_stats as rss\n",
    "from real_simple_stats import descriptive_statistics as desc\n",
    "from real_simple_stats import probability_utils as prob\n",
    "from real_simple_stats import normal_distributions as norm\n",
    "from real_simple_stats import hypothesis_testing as ht\n",
    "\n",
    "import numpy as np\n",
    "import matplotlib.pyplot as plt"
   ]
  },
  {
   "cell_type": "markdown",
   "metadata": {},
   "source": [
    "## 1. Descriptive Statistics\n",
    "\n",
    "Let's start with basic descriptive statistics using a sample dataset."
   ]
  },
  {
   "cell_type": "code",
   "execution_count": null,
   "metadata": {},
   "outputs": [],
   "source": [
    "# Sample data: test scores\n",
    "test_scores = [85, 92, 78, 96, 88, 91, 84, 89, 93, 87, 90, 86, 94, 82, 95]\n",
    "\n",
    "print(\"Test Scores Dataset:\")\n",
    "print(test_scores)\n",
    "print(f\"Number of students: {len(test_scores)}\")"
   ]
  },
  {
   "cell_type": "code",
   "execution_count": null,
   "metadata": {},
   "outputs": [],
   "source": [
    "# Calculate basic statistics\n",
    "mean_score = desc.mean(test_scores)\n",
    "median_score = desc.median(test_scores)\n",
    "std_dev = desc.sample_std_dev(test_scores)\n",
    "variance = desc.sample_variance(test_scores)\n",
    "\n",
    "print(\"Basic Descriptive Statistics:\")\n",
    "print(f\"Mean: {mean_score:.2f}\")\n",
    "print(f\"Median: {median_score:.2f}\")\n",
    "print(f\"Standard Deviation: {std_dev:.2f}\")\n",
    "print(f\"Variance: {variance:.2f}\")"
   ]
  },
  {
   "cell_type": "code",
   "execution_count": null,
   "metadata": {},
   "outputs": [],
   "source": [
    "# Five-number summary\n",
    "summary = desc.five_number_summary(test_scores)\n",
    "\n",
    "print(\"Five-Number Summary:\")\n",
    "for stat, value in summary.items():\n",
    "    print(f\"{stat.capitalize()}: {value}\")\n",
    "\n",
    "# Interquartile Range\n",
    "iqr = desc.interquartile_range(test_scores)\n",
    "print(f\"\\nInterquartile Range (IQR): {iqr}\")"
   ]
  },
  {
   "cell_type": "markdown",
   "metadata": {},
   "source": [
    "## 2. Probability Calculations\n",
    "\n",
    "Let's explore basic probability concepts."
   ]
  },
  {
   "cell_type": "code",
   "execution_count": null,
   "metadata": {},
   "outputs": [],
   "source": [
    "# Basic probability operations\n",
    "p_rain = 0.3  # Probability of rain\n",
    "p_no_rain = prob.probability_not(p_rain)\n",
    "\n",
    "print(f\"Probability of rain: {p_rain}\")\n",
    "print(f\"Probability of no rain: {p_no_rain}\")\n",
    "\n",
    "# Joint probability (independent events)\n",
    "p_rain_today = 0.3\n",
    "p_rain_tomorrow = 0.4\n",
    "p_rain_both_days = prob.joint_probability(p_rain_today, p_rain_tomorrow)\n",
    "\n",
    "print(f\"\\nProbability of rain both days: {p_rain_both_days}\")"
   ]
  },
  {
   "cell_type": "code",
   "execution_count": null,
   "metadata": {},
   "outputs": [],
   "source": [
    "# Combinatorics\n",
    "n_students = 20\n",
    "k_selected = 5\n",
    "\n",
    "combinations = prob.combinations(n_students, k_selected)\n",
    "permutations = prob.permutations(n_students, k_selected)\n",
    "\n",
    "print(f\"Ways to choose {k_selected} students from {n_students}:\")\n",
    "print(f\"Combinations: {combinations:,}\")\n",
    "print(f\"Permutations: {permutations:,}\")"
   ]
  },
  {
   "cell_type": "markdown",
   "metadata": {},
   "source": [
    "## 3. Normal Distribution\n",
    "\n",
    "Working with the normal distribution - the foundation of many statistical methods."
   ]
  },
  {
   "cell_type": "code",
   "execution_count": null,
   "metadata": {},
   "outputs": [],
   "source": [
    "# Standard normal distribution examples\n",
    "z_scores = [-2, -1, 0, 1, 2]\n",
    "\n",
    "print(\"Standard Normal Distribution:\")\n",
    "print(\"Z-score\\tPDF\\t\\tCDF\")\n",
    "print(\"-\" * 35)\n",
    "\n",
    "for z in z_scores:\n",
    "    pdf_val = norm.normal_pdf(z, mean=0, std_dev=1)\n",
    "    cdf_val = norm.normal_cdf(z, mean=0, std_dev=1)\n",
    "    print(f\"{z:>4}\\t{pdf_val:.4f}\\t\\t{cdf_val:.4f}\")"
   ]
  },
  {
   "cell_type": "code",
   "execution_count": null,
   "metadata": {},
   "outputs": [],
   "source": [
    "# Custom normal distribution (test scores)\n",
    "mean_test = 85\n",
    "std_test = 10\n",
    "\n",
    "# What's the probability a student scores above 95?\n",
    "prob_above_95 = 1 - norm.normal_cdf(95, mean_test, std_test)\n",
    "print(f\"Probability of scoring above 95: {prob_above_95:.4f} ({prob_above_95*100:.2f}%)\")\n",
    "\n",
    "# What score represents the 90th percentile?\n",
    "percentile_90 = norm.inverse_normal_cdf(0.90, mean_test, std_test)\n",
    "print(f\"90th percentile score: {percentile_90:.2f}\")"
   ]
  },
  {
   "cell_type": "markdown",
   "metadata": {},
   "source": [
    "## 4. Hypothesis Testing\n",
    "\n",
    "Let's perform a simple hypothesis test."
   ]
  },
  {
   "cell_type": "code",
   "execution_count": null,
   "metadata": {},
   "outputs": [],
   "source": [
    "# One-sample t-test\n",
    "# H₀: μ = 90 (null hypothesis: mean score is 90)\n",
    "# H₁: μ ≠ 90 (alternative hypothesis: mean score is not 90)\n",
    "\n",
    "null_mean = 90\n",
    "alpha = 0.05\n",
    "\n",
    "t_statistic, p_value = ht.one_sample_t_test(test_scores, null_mean)\n",
    "\n",
    "print(\"One-Sample t-Test Results:\")\n",
    "print(f\"Sample mean: {desc.mean(test_scores):.2f}\")\n",
    "print(f\"Null hypothesis mean: {null_mean}\")\n",
    "print(f\"t-statistic: {t_statistic:.4f}\")\n",
    "print(f\"p-value: {p_value:.6f}\")\n",
    "print(f\"Significance level (α): {alpha}\")\n",
    "\n",
    "if p_value < alpha:\n",
    "    print(f\"\\nConclusion: Reject H₀ (p < α)\")\n",
    "    print(f\"The sample provides sufficient evidence that the mean is not {null_mean}.\")\n",
    "else:\n",
    "    print(f\"\\nConclusion: Fail to reject H₀ (p ≥ α)\")\n",
    "    print(f\"The sample does not provide sufficient evidence that the mean differs from {null_mean}.\")"
   ]
  },
  {
   "cell_type": "markdown",
   "metadata": {},
   "source": [
    "## 5. Confidence Intervals\n",
    "\n",
    "Calculate confidence intervals for the mean."
   ]
  },
  {
   "cell_type": "code",
   "execution_count": null,
   "metadata": {},
   "outputs": [],
   "source": [
    "# 95% confidence interval for the mean\n",
    "confidence_level = 0.95\n",
    "ci_lower, ci_upper = ht.confidence_interval_mean(test_scores, confidence_level)\n",
    "\n",
    "print(f\"{confidence_level*100}% Confidence Interval for the Mean:\")\n",
    "print(f\"Lower bound: {ci_lower:.2f}\")\n",
    "print(f\"Upper bound: {ci_upper:.2f}\")\n",
    "print(f\"\\nInterpretation: We are {confidence_level*100}% confident that the true population mean\")\n",
    "print(f\"lies between {ci_lower:.2f} and {ci_upper:.2f}.\")"
   ]
  },
  {
   "cell_type": "markdown",
   "metadata": {},
   "source": [
    "## 6. Using the Glossary\n",
    "\n",
    "The library includes a comprehensive statistical glossary."
   ]
  },
  {
   "cell_type": "code",
   "execution_count": null,
   "metadata": {},
   "outputs": [],
   "source": [
    "from real_simple_stats.glossary import lookup\n",
    "\n",
    "# Look up statistical terms\n",
    "terms = ['p-value', 'confidence interval', 'standard deviation']\n",
    "\n",
    "for term in terms:\n",
    "    try:\n",
    "        definition = lookup(term)\n",
    "        print(f\"\\n{term.upper()}:\")\n",
    "        print(definition)\n",
    "        print(\"-\" * 50)\n",
    "    except KeyError:\n",
    "        print(f\"Term '{term}' not found in glossary.\")"
   ]
  },
  {
   "cell_type": "markdown",
   "metadata": {},
   "source": [
    "## 7. Visualization Example\n",
    "\n",
    "Create some basic visualizations of our data."
   ]
  },
  {
   "cell_type": "code",
   "execution_count": null,
   "metadata": {},
   "outputs": [],
   "source": [
    "# Histogram of test scores\n",
    "plt.figure(figsize=(10, 6))\n",
    "\n",
    "plt.subplot(1, 2, 1)\n",
    "plt.hist(test_scores, bins=8, alpha=0.7, color='skyblue', edgecolor='black')\n",
    "plt.axvline(desc.mean(test_scores), color='red', linestyle='--', label=f'Mean: {desc.mean(test_scores):.1f}')\n",
    "plt.axvline(desc.median(test_scores), color='green', linestyle='--', label=f'Median: {desc.median(test_scores):.1f}')\n",
    "plt.xlabel('Test Scores')\n",
    "plt.ylabel('Frequency')\n",
    "plt.title('Distribution of Test Scores')\n",
    "plt.legend()\n",
    "plt.grid(True, alpha=0.3)\n",
    "\n",
    "# Box plot\n",
    "plt.subplot(1, 2, 2)\n",
    "plt.boxplot(test_scores, vert=True)\n",
    "plt.ylabel('Test Scores')\n",
    "plt.title('Box Plot of Test Scores')\n",
    "plt.grid(True, alpha=0.3)\n",
    "\n",
    "plt.tight_layout()\n",
    "plt.show()"
   ]
  },
  {
   "cell_type": "markdown",
   "metadata": {},
   "source": [
    "## Next Steps\n",
    "\n",
    "This notebook covered the basics of Real Simple Stats. To learn more:\n",
    "\n",
    "1. **Explore other modules**: Check out `binomial_distributions`, `linear_regression_utils`, `chi_square_utils`\n",
    "2. **Read the documentation**: Visit [real-simple-stats.readthedocs.io](https://real-simple-stats.readthedocs.io/)\n",
    "3. **Try the CLI**: Use `rss-calc --help` for command-line calculations\n",
    "4. **Check out more examples**: Look in the `examples/` directory\n",
    "\n",
    "Happy analyzing! 📊"
   ]
  }
 ],
 "metadata": {
  "kernelspec": {
   "display_name": "Python 3",
   "language": "python",
   "name": "python3"
  },
  "language_info": {
   "codemirror_mode": {
    "name": "ipython",
    "version": 3
   },
   "file_extension": ".py",
   "mimetype": "text/x-python",
   "name": "python",
   "nbconvert_exporter": "python",
   "pygments_lexer": "ipython3",
   "version": "3.8.5"
  }
 },
 "nbformat": 4,
 "nbformat_minor": 4
}
